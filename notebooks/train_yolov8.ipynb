{
 "cells": [
  {
   "cell_type": "markdown",
   "id": "ee9a8e97",
   "metadata": {},
   "source": [
    "## Cài requirements"
   ]
  },
  {
   "cell_type": "code",
   "execution_count": null,
   "id": "4330883d",
   "metadata": {
    "vscode": {
     "languageId": "plaintext"
    }
   },
   "outputs": [],
   "source": [
    "!pip install ultralytics roboflow"
   ]
  },
  {
   "cell_type": "markdown",
   "id": "04eace1b",
   "metadata": {},
   "source": [
    "## Download dataset"
   ]
  },
  {
   "cell_type": "code",
   "execution_count": null,
   "id": "c3a1f838",
   "metadata": {
    "vscode": {
     "languageId": "plaintext"
    }
   },
   "outputs": [],
   "source": [
    "## Dataset 1\n",
    "from roboflow import Roboflow\n",
    "rf = Roboflow(api_key=\"----\")\n",
    "project = rf.workspace(\"hashirkhan\").project(\"fall-detection-qkyii\")\n",
    "version = project.version(4)\n",
    "dataset = version.download(\"yolov8\")\n",
    "                "
   ]
  },
  {
   "cell_type": "markdown",
   "id": "041e1782",
   "metadata": {},
   "source": [
    "## Train"
   ]
  },
  {
   "cell_type": "code",
   "execution_count": null,
   "id": "55e2585d",
   "metadata": {
    "vscode": {
     "languageId": "plaintext"
    }
   },
   "outputs": [],
   "source": [
    "from ultralytics import YOLO\n",
    "\n",
    "# Load pretrained YOLOv8\n",
    "model = YOLO(\"yolov8n.pt\")  # yolov8n.pt yolov8s.pt\n",
    "\n",
    "# Train\n",
    "model.train(\n",
    "    data=\"/kaggle/working/Fall-detection-4/data.yaml\",  # chỉ rõ đường dẫn tới data.yaml\n",
    "    epochs=10,\n",
    "    imgsz=640,\n",
    "    batch=32\n",
    ")\n"
   ]
  }
 ],
 "metadata": {
  "language_info": {
   "name": "python"
  }
 },
 "nbformat": 4,
 "nbformat_minor": 5
}
