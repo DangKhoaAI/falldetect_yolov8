{
 "cells": [
  {
   "cell_type": "markdown",
   "id": "0e12d707",
   "metadata": {},
   "source": [
    "## Clone Repo"
   ]
  },
  {
   "cell_type": "code",
   "execution_count": null,
   "id": "f561b19d",
   "metadata": {
    "vscode": {
     "languageId": "plaintext"
    }
   },
   "outputs": [],
   "source": [
    "!git clone https://github.com/dangkhoaAI/fall-detection-yolov8.git"
   ]
  },
  {
   "cell_type": "markdown",
   "id": "ee9a8e97",
   "metadata": {},
   "source": [
    "## Cài requirements"
   ]
  },
  {
   "cell_type": "code",
   "execution_count": null,
   "id": "4330883d",
   "metadata": {
    "vscode": {
     "languageId": "plaintext"
    }
   },
   "outputs": [],
   "source": [
    "pip install -r requirements.txt"
   ]
  },
  {
   "cell_type": "markdown",
   "id": "041e1782",
   "metadata": {},
   "source": [
    "## Train"
   ]
  },
  {
   "cell_type": "code",
   "execution_count": null,
   "id": "55e2585d",
   "metadata": {
    "vscode": {
     "languageId": "plaintext"
    }
   },
   "outputs": [],
   "source": [
    "from ultralytics import YOLO\n",
    "model = YOLO(\"yolov8s.pt\")\n",
    "model.train(data=\"configs/mydata.yaml\", epochs=100, imgsz=640)\n"
   ]
  }
 ],
 "metadata": {
  "language_info": {
   "name": "python"
  }
 },
 "nbformat": 4,
 "nbformat_minor": 5
}
